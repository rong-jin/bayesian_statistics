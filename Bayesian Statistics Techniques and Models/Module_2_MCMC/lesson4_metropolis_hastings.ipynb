{
  "nbformat": 4,
  "nbformat_minor": 5,
  "metadata": {
    "kernelspec": {
      "display_name": "Python 3",
      "language": "python",
      "name": "python3"
    },
    "language_info": {
      "name": "python",
      "version": "3.10"
    }
  },
  "cells": [
    {
      "id": "cba3fb66",
      "cell_type": "markdown",
      "source": "# Lesson\u00a04: Metropolis\u2011Hastings\n\nThis notebook demonstrates a **Random\u2011Walk Metropolis\u2013Hastings** sampler for a Bayesian\nmodel with a Normal likelihood (known variance) and a heavy\u2011tailed *t* prior on the mean `\u03bc`.\nThe data are the ten percentage changes in company personnel used in the lecture.\n",
      "metadata": {}
    },
    {
      "id": "023fcfe5",
      "cell_type": "markdown",
      "source": "## 1\u00a0\u00a0Setup",
      "metadata": {}
    },
    {
      "id": "7ee0919b",
      "cell_type": "code",
      "metadata": {},
      "execution_count": null,
      "source": "\nimport numpy as np\nimport matplotlib.pyplot as plt\nimport arviz as az\nfrom scipy.stats import t\n",
      "outputs": []
    },
    {
      "id": "5c25998b",
      "cell_type": "code",
      "metadata": {},
      "execution_count": null,
      "source": "\n# Data from the lesson\ny = np.array([1.2, 1.4, -0.5, 0.3, 0.9, 2.3, 1.0, 0.1, 1.3, 1.9])\nn = len(y)\nybar = y.mean()\n\nprint(f\"n = {n}, y\u0304 = {ybar:.3f}\")\n",
      "outputs": []
    },
    {
      "id": "8c5bb2ab",
      "cell_type": "markdown",
      "source": "## 2\u00a0\u00a0Target density (up to proportionality)\nThe posterior kernel is\n$g(\\mu) \\;\\propto\\; \\exp\\bigl\\{ n\\bigl(y\\_\\bar{}\\,\\mu - \\mu^2/2\\bigr)\\bigr\\}\\bigl(1+\\mu^2\\bigr)^{-1}$.",
      "metadata": {}
    },
    {
      "id": "72c2f675",
      "cell_type": "code",
      "metadata": {},
      "execution_count": null,
      "source": "\ndef log_g(mu, n, ybar):\n    \"\"\"Log of g(\u03bc) (unnormalised posterior).\"\"\"\n    mu2 = mu ** 2\n    return n * (ybar * mu - mu2 / 2.0) - np.log1p(mu2)\n",
      "outputs": []
    },
    {
      "id": "a41fd685",
      "cell_type": "markdown",
      "source": "## 3\u00a0\u00a0Random\u2011Walk Metropolis\u2013Hastings sampler",
      "metadata": {}
    },
    {
      "id": "71f187eb",
      "cell_type": "code",
      "metadata": {},
      "execution_count": null,
      "source": "\ndef mh(n, ybar, n_iter=1000, mu_init=0.0, cand_sd=0.9):\n    mu = np.empty(n_iter)\n    mu_now = mu_init\n    lg_now = log_g(mu_now, n, ybar)\n    accpt = 0\n\n    for i in range(n_iter):\n        mu_cand = np.random.normal(mu_now, cand_sd)\n        lg_cand = log_g(mu_cand, n, ybar)\n        alpha = np.exp(lg_cand - lg_now)\n        if np.random.rand() < min(1.0, alpha):\n            mu_now = mu_cand\n            lg_now = lg_cand\n            accpt += 1\n        mu[i] = mu_now\n    return {\"mu\": mu, \"accpt\": accpt / n_iter}\n",
      "outputs": []
    },
    {
      "id": "b895942f",
      "cell_type": "markdown",
      "source": "### 3.1\u00a0\u00a0Tuning the proposal standard deviation",
      "metadata": {}
    },
    {
      "id": "f59593c2",
      "cell_type": "code",
      "metadata": {},
      "execution_count": null,
      "source": "\nnp.random.seed(43)\nparams = [3.0, 0.05, 0.9]\nposts = []\nfor sd in params:\n    post = mh(n, ybar, n_iter=1000, mu_init=0.0, cand_sd=sd)\n    posts.append(post)\n    print(f\"cand_sd={sd:<4}  acceptance={post['accpt']:.3f}\")\n\nfig, axes = plt.subplots(len(params), 1, figsize=(6, 6), sharex=True)\nfor ax, post, sd in zip(axes, posts, params):\n    ax.plot(post['mu'], lw=0.6)\n    ax.set_title(f'cand_sd={sd}')\n    ax.set_ylabel('\u03bc')\naxes[-1].set_xlabel('Iteration')\nfig.suptitle('Trace plots for different proposal scales', y=1.02)\nplt.tight_layout()\n",
      "outputs": []
    },
    {
      "id": "300120aa",
      "cell_type": "markdown",
      "source": "### 3.2\u00a0\u00a0Starting far from the posterior",
      "metadata": {}
    },
    {
      "id": "155411c1",
      "cell_type": "code",
      "metadata": {},
      "execution_count": null,
      "source": "\npost_far = mh(n, ybar, n_iter=1000, mu_init=30.0, cand_sd=0.9)\nprint(f\"acceptance (far start) = {post_far['accpt']:.3f}\")\n\nplt.figure(figsize=(6,2.5))\nplt.plot(post_far['mu'], lw=0.6)\nplt.xlabel('Iteration'); plt.ylabel('\u03bc')\nplt.title('Trace plot (start at \u03bc=30)')\nplt.show()\n",
      "outputs": []
    },
    {
      "id": "413726cf",
      "cell_type": "markdown",
      "source": "## 4\u00a0\u00a0Posterior vs prior",
      "metadata": {}
    },
    {
      "id": "d682d1d6",
      "cell_type": "code",
      "metadata": {},
      "execution_count": null,
      "source": "\nburn = 100\nmu_keep = post_far['mu'][burn:]\n\nxs = np.linspace(-1.0, 3.0, 400)\nplt.figure(figsize=(6,3))\nplt.hist(mu_keep, bins=30, density=True, alpha=0.3, label='Posterior (hist)')\nfrom scipy.stats import gaussian_kde\nkde = gaussian_kde(mu_keep, bw_method=0.2)\nplt.plot(xs, kde(xs), label='Posterior KDE')\nplt.plot(xs, t.pdf(xs, df=1), 'k--', label='t prior (df=1)')\nplt.axvline(ybar, color='k', lw=1, label='Sample mean')\nplt.xlim(-1,3); plt.xlabel('\u03bc'); plt.legend()\nplt.title('Posterior vs prior')\nplt.show()\n",
      "outputs": []
    }
  ]
}
