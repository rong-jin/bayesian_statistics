{
 "cells": [
  {
   "cell_type": "markdown",
   "id": "a72b0a5a",
   "metadata": {},
   "source": [
    "# Lesson 5 — Gibbs Sampling\n",
    "\n",
    "In this notebook we build a **Gibbs sampler** step‑by‑step for a Normal model whose mean $\\mu$ and variance\n",
    "$\\sigma^2$ are *both unknown*. \n",
    "\n",
    "1. Specify conjugate priors  \n",
    "   $\\;\\mu\\mid\\sigma^2\\sim\\mathcal N\\bigl(\\mu_0,\\,\\sigma^2/\\kappa_0\\bigr),\\;\\;\n",
    "   \\sigma^2\\sim\\text{Inv‑Gamma}(\\nu_0,\\beta_0)$  \n",
    "2. Derive and code the two full‑conditional distributions  \n",
    "   $p(\\mu\\mid\\sigma^2,\\,y)$ and $p(\\sigma^2\\mid\\mu,\\,y)$  \n",
    "3. Implement the Gibbs sampling loop in Python  \n",
    "4. Diagnose convergence with trace plots and R‑hat  \n",
    "5. Summarize the posterior and compare to prior beliefs"
   ]
  },
  {
   "cell_type": "markdown",
   "id": "de749526",
   "metadata": {},
   "source": [
    "## 1  Setup"
   ]
  },
  {
   "cell_type": "code",
   "execution_count": null,
   "id": "eb7edbff",
   "metadata": {},
   "outputs": [],
   "source": [
    "\n",
    "import numpy as np\n",
    "import matplotlib.pyplot as plt\n",
    "import arviz as az\n",
    "from scipy.stats import invgamma\n"
   ]
  },
  {
   "cell_type": "code",
   "execution_count": null,
   "id": "dd779d82",
   "metadata": {},
   "outputs": [],
   "source": [
    "\n",
    "# Data (same as Lesson 4)\n",
    "y = np.array([1.2, 1.4, -0.5, 0.3, 0.9, 2.3, 1.0, 0.1, 1.3, 1.9])\n",
    "n = len(y); ybar = y.mean()\n",
    "print(f\"n = {n}, ȳ = {ybar:.3f}\")\n"
   ]
  },
  {
   "cell_type": "markdown",
   "id": "195a7018",
   "metadata": {},
   "source": [
    "### 1.1  Prior hyper‑parameters"
   ]
  },
  {
   "cell_type": "code",
   "execution_count": null,
   "id": "56dadb41",
   "metadata": {},
   "outputs": [],
   "source": [
    "\n",
    "mu0    = 0.0\n",
    "kappa0 = 1.0    # equivalent to σ² prior scaling factor\n",
    "nu0    = 1.0\n",
    "beta0  = 1.0\n"
   ]
  },
  {
   "cell_type": "markdown",
   "id": "4bc39901",
   "metadata": {},
   "source": [
    "## 2  Full conditional simulators"
   ]
  },
  {
   "cell_type": "code",
   "execution_count": null,
   "id": "e8e48d4a",
   "metadata": {},
   "outputs": [],
   "source": [
    "\n",
    "def sample_mu(n, ybar, sig2, mu0, kappa0):\n",
    "    var = 1.0 / (n / sig2 + 1.0 / (kappa0 * sig2))\n",
    "    mean = var * (n * ybar / sig2 + mu0 / (kappa0 * sig2))\n",
    "    return np.random.normal(mean, np.sqrt(var))\n"
   ]
  },
  {
   "cell_type": "code",
   "execution_count": null,
   "id": "c63425e8",
   "metadata": {},
   "outputs": [],
   "source": [
    "\n",
    "def sample_sig2(n, y, mu, nu0, beta0):\n",
    "    nu1 = nu0 + n/2.0\n",
    "    beta1 = beta0 + 0.5 * np.sum((y - mu)**2)\n",
    "    return invgamma.rvs(a=nu1, scale=beta1)\n"
   ]
  },
  {
   "cell_type": "markdown",
   "id": "a3830d82",
   "metadata": {},
   "source": [
    "## 3  Gibbs sampler"
   ]
  },
  {
   "cell_type": "code",
   "execution_count": null,
   "id": "e37d941e",
   "metadata": {},
   "outputs": [],
   "source": [
    "\n",
    "def gibbs_normal(y, n_iter=1000, mu0=0.0, kappa0=1.0, nu0=1.0, beta0=1.0):\n",
    "    n = len(y); ybar = y.mean()\n",
    "    mu_chain   = np.empty(n_iter)\n",
    "    sig2_chain = np.empty(n_iter)\n",
    "    mu_now = mu0\n",
    "    for i in range(n_iter):\n",
    "        sig2_now = sample_sig2(n, y, mu_now, nu0, beta0)\n",
    "        mu_now   = sample_mu(n, ybar, sig2_now, mu0, kappa0)\n",
    "        mu_chain[i] = mu_now\n",
    "        sig2_chain[i] = sig2_now\n",
    "    return {\"mu\": mu_chain, \"sig2\": sig2_chain}\n"
   ]
  },
  {
   "cell_type": "markdown",
   "id": "6abd14f3",
   "metadata": {},
   "source": [
    "### 3.1  Run the sampler"
   ]
  },
  {
   "cell_type": "code",
   "execution_count": null,
   "id": "8dd5e64e",
   "metadata": {},
   "outputs": [],
   "source": [
    "\n",
    "np.random.seed(53)\n",
    "post = gibbs_normal(y, n_iter=1000, mu0=mu0, kappa0=kappa0, nu0=nu0, beta0=beta0)\n",
    "print('Posterior means:')\n",
    "print('  mu   =', post['mu'].mean())\n",
    "print('  sig2 =', post['sig2'].mean())\n"
   ]
  },
  {
   "cell_type": "markdown",
   "id": "41895c3f",
   "metadata": {},
   "source": [
    "### 3.2  Trace diagnostics"
   ]
  },
  {
   "cell_type": "code",
   "execution_count": null,
   "id": "6d2a9d9d",
   "metadata": {},
   "outputs": [],
   "source": [
    "\n",
    "idata = az.from_dict({'mu': post['mu'], 'sig2': post['sig2']})\n",
    "az.plot_trace(idata, figsize=(8,4), compact=True)\n"
   ]
  },
  {
   "cell_type": "markdown",
   "id": "95df2210",
   "metadata": {},
   "source": [
    "## 4  Posterior summaries"
   ]
  },
  {
   "cell_type": "code",
   "execution_count": null,
   "id": "5783d27b",
   "metadata": {},
   "outputs": [],
   "source": [
    "\n",
    "az.summary(idata, kind='stats', hdi_prob=0.95)\n"
   ]
  }
 ],
 "metadata": {
  "kernelspec": {
   "display_name": "Python 3",
   "language": "python",
   "name": "python3"
  },
  "language_info": {
   "name": "python",
   "version": "3.10"
  }
 },
 "nbformat": 4,
 "nbformat_minor": 5
}
