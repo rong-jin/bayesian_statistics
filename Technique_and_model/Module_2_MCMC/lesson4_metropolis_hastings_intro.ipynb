{
 "cells": [
  {
   "cell_type": "markdown",
   "id": "d0114924",
   "metadata": {},
   "source": [
    "# Lesson 4 — Metropolis‑Hastings\n",
    "\n",
    "This notebook implements a **random‑walk Metropolis–Hastings (MH) sampler** for a univariate Bayesian model:\n",
    "\n",
    "* **Likelihood**: Normal data with *known* variance  \n",
    "* **Prior**: Heavy‑tailed Student‑t (df = 1) on the mean $\\mu$  \n",
    "\n",
    "1. Code the target log‑density $g(\\mu)$ up to proportionality  \n",
    "2. Build a random‑walk MH sampler and experiment with proposal scales  \n",
    "3. Inspect trace plots and acceptance rates to diagnose mixing  \n",
    "4. Explore the effect of a poor initial value (convergence/burn‑in)  \n",
    "5. Compare the posterior to the prior via density plots"
   ]
  },
  {
   "cell_type": "markdown",
   "id": "023fcfe5",
   "metadata": {},
   "source": [
    "## 1  Setup"
   ]
  },
  {
   "cell_type": "code",
   "execution_count": null,
   "id": "7ee0919b",
   "metadata": {},
   "outputs": [],
   "source": [
    "\n",
    "import numpy as np\n",
    "import matplotlib.pyplot as plt\n",
    "import arviz as az\n",
    "from scipy.stats import t\n"
   ]
  },
  {
   "cell_type": "code",
   "execution_count": null,
   "id": "5c25998b",
   "metadata": {},
   "outputs": [],
   "source": [
    "\n",
    "# Data from the lesson\n",
    "y = np.array([1.2, 1.4, -0.5, 0.3, 0.9, 2.3, 1.0, 0.1, 1.3, 1.9])\n",
    "n = len(y)\n",
    "ybar = y.mean()\n",
    "\n",
    "print(f\"n = {n}, ȳ = {ybar:.3f}\")\n"
   ]
  },
  {
   "cell_type": "markdown",
   "id": "8c5bb2ab",
   "metadata": {},
   "source": [
    "## 2  Target density (up to proportionality)\n",
    "The posterior kernel is\n",
    "$g(\\mu) \\;\\propto\\; \\exp\\bigl\\{ n\\bigl(y\\_\\bar{}\\,\\mu - \\mu^2/2\\bigr)\\bigr\\}\\bigl(1+\\mu^2\\bigr)^{-1}$."
   ]
  },
  {
   "cell_type": "code",
   "execution_count": null,
   "id": "72c2f675",
   "metadata": {},
   "outputs": [],
   "source": [
    "\n",
    "def log_g(mu, n, ybar):\n",
    "    \"\"\"Log of g(μ) (unnormalised posterior).\"\"\"\n",
    "    mu2 = mu ** 2\n",
    "    return n * (ybar * mu - mu2 / 2.0) - np.log1p(mu2)\n"
   ]
  },
  {
   "cell_type": "markdown",
   "id": "a41fd685",
   "metadata": {},
   "source": [
    "## 3  Random‑Walk Metropolis–Hastings sampler"
   ]
  },
  {
   "cell_type": "code",
   "execution_count": null,
   "id": "71f187eb",
   "metadata": {},
   "outputs": [],
   "source": [
    "\n",
    "def mh(n, ybar, n_iter=1000, mu_init=0.0, cand_sd=0.9):\n",
    "    mu = np.empty(n_iter)\n",
    "    mu_now = mu_init\n",
    "    lg_now = log_g(mu_now, n, ybar)\n",
    "    accpt = 0\n",
    "\n",
    "    for i in range(n_iter):\n",
    "        mu_cand = np.random.normal(mu_now, cand_sd)\n",
    "        lg_cand = log_g(mu_cand, n, ybar)\n",
    "        alpha = np.exp(lg_cand - lg_now)\n",
    "        if np.random.rand() < min(1.0, alpha):\n",
    "            mu_now = mu_cand\n",
    "            lg_now = lg_cand\n",
    "            accpt += 1\n",
    "        mu[i] = mu_now\n",
    "    return {\"mu\": mu, \"accpt\": accpt / n_iter}\n"
   ]
  },
  {
   "cell_type": "markdown",
   "id": "b895942f",
   "metadata": {},
   "source": [
    "### 3.1  Tuning the proposal standard deviation"
   ]
  },
  {
   "cell_type": "code",
   "execution_count": null,
   "id": "f59593c2",
   "metadata": {},
   "outputs": [],
   "source": [
    "\n",
    "np.random.seed(43)\n",
    "params = [3.0, 0.05, 0.9]\n",
    "posts = []\n",
    "for sd in params:\n",
    "    post = mh(n, ybar, n_iter=1000, mu_init=0.0, cand_sd=sd)\n",
    "    posts.append(post)\n",
    "    print(f\"cand_sd={sd:<4}  acceptance={post['accpt']:.3f}\")\n",
    "\n",
    "fig, axes = plt.subplots(len(params), 1, figsize=(6, 6), sharex=True)\n",
    "for ax, post, sd in zip(axes, posts, params):\n",
    "    ax.plot(post['mu'], lw=0.6)\n",
    "    ax.set_title(f'cand_sd={sd}')\n",
    "    ax.set_ylabel('μ')\n",
    "axes[-1].set_xlabel('Iteration')\n",
    "fig.suptitle('Trace plots for different proposal scales', y=1.02)\n",
    "plt.tight_layout()\n"
   ]
  },
  {
   "cell_type": "markdown",
   "id": "300120aa",
   "metadata": {},
   "source": [
    "### 3.2  Starting far from the posterior"
   ]
  },
  {
   "cell_type": "code",
   "execution_count": null,
   "id": "155411c1",
   "metadata": {},
   "outputs": [],
   "source": [
    "\n",
    "post_far = mh(n, ybar, n_iter=1000, mu_init=30.0, cand_sd=0.9)\n",
    "print(f\"acceptance (far start) = {post_far['accpt']:.3f}\")\n",
    "\n",
    "plt.figure(figsize=(6,2.5))\n",
    "plt.plot(post_far['mu'], lw=0.6)\n",
    "plt.xlabel('Iteration'); plt.ylabel('μ')\n",
    "plt.title('Trace plot (start at μ=30)')\n",
    "plt.show()\n"
   ]
  },
  {
   "cell_type": "markdown",
   "id": "413726cf",
   "metadata": {},
   "source": [
    "## 4  Posterior vs prior"
   ]
  },
  {
   "cell_type": "code",
   "execution_count": null,
   "id": "d682d1d6",
   "metadata": {},
   "outputs": [],
   "source": [
    "\n",
    "burn = 100\n",
    "mu_keep = post_far['mu'][burn:]\n",
    "\n",
    "xs = np.linspace(-1.0, 3.0, 400)\n",
    "plt.figure(figsize=(6,3))\n",
    "plt.hist(mu_keep, bins=30, density=True, alpha=0.3, label='Posterior (hist)')\n",
    "from scipy.stats import gaussian_kde\n",
    "kde = gaussian_kde(mu_keep, bw_method=0.2)\n",
    "plt.plot(xs, kde(xs), label='Posterior KDE')\n",
    "plt.plot(xs, t.pdf(xs, df=1), 'k--', label='t prior (df=1)')\n",
    "plt.axvline(ybar, color='k', lw=1, label='Sample mean')\n",
    "plt.xlim(-1,3); plt.xlabel('μ'); plt.legend()\n",
    "plt.title('Posterior vs prior')\n",
    "plt.show()\n"
   ]
  }
 ],
 "metadata": {
  "kernelspec": {
   "display_name": "Python 3",
   "language": "python",
   "name": "python3"
  },
  "language_info": {
   "name": "python",
   "version": "3.10"
  }
 },
 "nbformat": 4,
 "nbformat_minor": 5
}
