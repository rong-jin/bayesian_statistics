{
 "cells": [
  {
   "cell_type": "markdown",
   "id": "fd2de9e2",
   "metadata": {},
   "source": [
    "# Lesson 6 — MCMC Convergence Diagnostics\n",
    "\n",
    "A practical tour of tools to check whether your Markov chain has reached its stationary (posterior) distribution.\n",
    "\n",
    "\n",
    "1. **Trace plots** — detect trends and wandering behaviour  \n",
    "2. **Autocorrelation & ESS** — quantify dependency and effective information size  \n",
    "3. **Burn‑in** — decide how many early draws to discard  \n",
    "4. **Multiple chains & $\\hat R$** — Gelman–Rubin shrink factor for convergence assurance  \n",
    "5. Quick posterior estimates once diagnostics look satisfactory"
   ]
  },
  {
   "cell_type": "markdown",
   "id": "c6b5decd",
   "metadata": {},
   "source": [
    "## 1  Setup"
   ]
  },
  {
   "cell_type": "code",
   "execution_count": null,
   "id": "466e5ad6",
   "metadata": {},
   "outputs": [],
   "source": [
    "\n",
    "import numpy as np\n",
    "import matplotlib.pyplot as plt\n",
    "import arviz as az\n",
    "from statsmodels.tsa.stattools import acf\n"
   ]
  },
  {
   "cell_type": "code",
   "execution_count": null,
   "id": "5a571d82",
   "metadata": {},
   "outputs": [],
   "source": [
    "\n",
    "# Helper MH sampler\n",
    "def mh(n, ybar, n_iter=1000, mu_init=0.0, cand_sd=0.9):\n",
    "    mu = np.empty(n_iter)\n",
    "    mu_now = mu_init\n",
    "    lg_now = -0.5*n*(mu_now-ybar)**2\n",
    "    accpt = 0\n",
    "    for i in range(n_iter):\n",
    "        mu_cand = np.random.normal(mu_now, cand_sd)\n",
    "        lg_cand = -0.5*n*(mu_cand-ybar)**2\n",
    "        if np.random.rand() < np.exp(lg_cand-lg_now):\n",
    "            mu_now, lg_now = mu_cand, lg_cand\n",
    "            accpt += 1\n",
    "        mu[i] = mu_now\n",
    "    return {'mu': mu, 'accpt': accpt/n_iter}\n"
   ]
  },
  {
   "cell_type": "markdown",
   "id": "13cde6ee",
   "metadata": {},
   "source": [
    "## 2  Trace plots"
   ]
  },
  {
   "cell_type": "code",
   "execution_count": null,
   "id": "f09e97df",
   "metadata": {},
   "outputs": [],
   "source": [
    "\n",
    "np.random.seed(61)\n",
    "n, ybar = 30, 1.0\n",
    "post0 = mh(n, ybar, n_iter=10000, cand_sd=0.9)\n",
    "print('acceptance =', post0['accpt'])\n",
    "\n",
    "plt.figure(figsize=(6,2.5))\n",
    "plt.plot(post0['mu'][500:], lw=0.6)\n",
    "plt.xlabel('Iteration'); plt.ylabel('$\\mu$')\n",
    "plt.title('Trace plot'); plt.show()\n"
   ]
  },
  {
   "cell_type": "markdown",
   "id": "639e95a9",
   "metadata": {},
   "source": [
    "## 3  Effective sample size"
   ]
  },
  {
   "cell_type": "code",
   "execution_count": null,
   "id": "f877aa2f",
   "metadata": {},
   "outputs": [],
   "source": [
    "\n",
    "ess = az.ess(post0['mu'])\n",
    "print('ESS ≈', ess.round(0))\n",
    "az.plot_autocorr(post0['mu'], max_lag=50)\n"
   ]
  },
  {
   "cell_type": "markdown",
   "id": "6c227180",
   "metadata": {},
   "source": [
    "## 4  Burn‑in"
   ]
  },
  {
   "cell_type": "code",
   "execution_count": null,
   "id": "945025d8",
   "metadata": {},
   "outputs": [],
   "source": [
    "\n",
    "np.random.seed(62)\n",
    "post_burn = mh(n, ybar, n_iter=500, mu_init=10.0, cand_sd=0.3)\n",
    "plt.figure(figsize=(6,2.5))\n",
    "plt.plot(post_burn['mu'], lw=0.6)\n",
    "plt.axvline(100, color='red', ls='--')\n",
    "plt.xlabel('Iteration'); plt.ylabel('$\\mu$'); plt.title('Burn‑in example')\n",
    "plt.show()\n"
   ]
  },
  {
   "cell_type": "markdown",
   "id": "cbd31364",
   "metadata": {},
   "source": [
    "## 5  Multiple chains · $\\hat R$"
   ]
  },
  {
   "cell_type": "code",
   "execution_count": null,
   "id": "cbbfd338",
   "metadata": {},
   "outputs": [],
   "source": [
    "\n",
    "starts = [15.0, -5.0, 7.0, 23.0, -17.0]\n",
    "chains = [mh(n, ybar, n_iter=500, mu_init=s, cand_sd=0.4)['mu'] for s in starts]\n",
    "idata = az.convert_to_inference_data(np.array(chains))\n",
    "print('R‑hat =', float(az.rhat(idata).sel(chain_draw='mu')))\n",
    "az.plot_trace(idata, compact=True, figsize=(8,4))\n"
   ]
  },
  {
   "cell_type": "markdown",
   "id": "085afdeb",
   "metadata": {},
   "source": [
    "## 6  Posterior estimation"
   ]
  },
  {
   "cell_type": "code",
   "execution_count": null,
   "id": "f11b883b",
   "metadata": {},
   "outputs": [],
   "source": [
    "\n",
    "mu_keep = post0['mu'][1000:]\n",
    "print('Pr(μ > 1) ≈', np.mean(mu_keep > 1).round(3))\n"
   ]
  }
 ],
 "metadata": {
  "kernelspec": {
   "display_name": "Python 3",
   "language": "python",
   "name": "python3"
  },
  "language_info": {
   "name": "python",
   "version": "3.10"
  }
 },
 "nbformat": 4,
 "nbformat_minor": 5
}
